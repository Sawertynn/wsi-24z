{
  "cells": [
    {
      "cell_type": "markdown",
      "metadata": {
        "id": "cBl0cj0jPID2"
      },
      "source": [
        "#Zadanie 2 (7 pkt)\n",
        "Celem zadania jest rozwiązanie zadania optymalizacji przy pomocy algorytmu genetycznego. Należy znaleźć minimum zadanej funkcji:\n",
        "\\begin{equation}\n",
        "f(x) = 1.5-\\exp \\left\\{-x_1^2-x_2^2\\right\\}-0.5 \\exp \\left\\{-\\left(x_1-1\\right)^2-\\left(x_2+2\\right)^2\\right\\}\n",
        "\\end{equation}\n",
        "Należy wykorzystać mechanizmy krzyżowania punktowego, mutacji oraz selekcji turniejowej. Proszę wykorzystać przygotowany szkielet i zaimplementować niezbędne metody. Opracowane oprogramowanie powinno być uniwersalne - wymiar funkcji, której minimum szukamy może być dowolny (mechanizm *args). Punktacja wygląda następująco:\n",
        "\n",
        "*   Stworzenie obiektu klasy *Chromosome* z polem *array*, które jest wektorem aktywnych i nieaktywnych genów - **0.5 pkt**\n",
        "*   Implementacja metody *decode*, która dekoduje część chromosomu (określoną przez początek (*lower_bound*) i koniec (*upper_bound*)) do postaci liczby rzeczywistej. *aoi* to zakres wartości zdekodowanej liczby rzeczywistej. Przykład: liczba 135 w postaci binarnej zapisana przy użyciu 8 bitów to 1000 0111, jeśli nasze *aoi* to [0, 1], to 135 sprowadzone do tego zakresu to 0.529. Można skorzystać z funkcji pomocniczej *min_max_norm* - **1 pkt**\n",
        "*   Implementacja metody *mutation*, która przyjmuje jako argument prawdopodobieństo mutacji i zmienia wartość jedego, losowego genu na przeciwną - **0.5 pkt**\n",
        "*   Implementacja metody *crossover*, która wykonuje operację krzyżowania jednopunktowego - **1 pkt**\n",
        "*   Implementacja metody *eval_objective_func*, która dekoduje cały chromosom (otrzymuje się argumenty funkcji) oraz zwraca wartość funkcji celu dla tych argumentów - **1 pkt**\n",
        "*   Implementacja metody *tournament_selection*, która przeprowadza selekcję turniejową - **1 pkt**\n",
        "*   Implementacja metody *reproduce*, która generuje nowe pokolenie - z pewnym prawdopodobieństwem przeprowadza krzyżowanie jednopunktowe lub \"przerzuca\" rodziców do nowego pokolenia - **0.5 pkt**\n",
        "*   Implementacja metody *run*, która wykonuje cały alorytm genetyczny dla określonej liczby pokoleń. W każdym pokoleniu należy zapisać dane osobnika z najlepszym chromosomem zdekodowane wartości x i y oraz wartość funkcji strat dla tego osobnika - **0.5 pkt**\n",
        "*   Proszę, podobnie jak miało to miejsce w przypadku metody gradientowej z poprzednich zajęć, wygenerować wykres przy użyciu funkcji *plot_func* (w przypadku innego typu argumentu *trace*, funkcję można zmodyfikować. Wykres powinien przedstawiać funkcję, której minimum poszukujemy oraz punkty odpowiadające najlepszym osobnikom w danych generacjach, których kolor jest coraz jaśniejszy wraz ze zbliżaniem się do minimum. Proszę zapisać swoje wnioski, w szczególności w odniesieniu do metody gradientowej. - **1 pkt**\n"
      ]
    },
    {
      "cell_type": "markdown",
      "metadata": {},
      "source": [
        "# Implementacja"
      ]
    },
    {
      "cell_type": "code",
      "execution_count": 120,
      "metadata": {
        "id": "t7lu9KtdNqVO"
      },
      "outputs": [],
      "source": [
        "import numpy as np\n",
        "import matplotlib.pyplot as plt\n",
        "\n",
        "from collections.abc import Iterable\n",
        "from copy import copy\n",
        "\n",
        "np.set_printoptions(legacy='1.25')"
      ]
    },
    {
      "cell_type": "code",
      "execution_count": 121,
      "metadata": {
        "id": "At5DP7zTNsO8"
      },
      "outputs": [],
      "source": [
        "def min_max_norm(val, min_val, max_val, new_min, new_max):\n",
        "  return (val - min_val) * (new_max - new_min) / (max_val - min_val) + new_min\n",
        "\n",
        "def rand_uni(probability: float) -> bool:\n",
        "  return np.random.uniform(0, 1) <= probability\n",
        "\n",
        "\n",
        "def bit2int(bit_array):\n",
        "  val = 0\n",
        "  for digit in bit_array:\n",
        "    val *= 2\n",
        "    val += digit\n",
        "  return val\n",
        "\n"
      ]
    },
    {
      "cell_type": "code",
      "execution_count": 122,
      "metadata": {
        "id": "AHfWVTRuNxms"
      },
      "outputs": [],
      "source": [
        "class Chromosome:\n",
        "  def __init__(self, length, array=None): #if array is None it should be initialized with random binary vector\n",
        "    self.genes: np.ndarray = array if array is not None else np.random.randint(2, size=length)\n",
        "    self.length = length\n",
        "\n",
        "  def decode(self, lower_bound: int, upper_bound: int, aoi: Iterable[float], bits_per_arg=2) -> float:\n",
        "    new_low, new_high = aoi\n",
        "    max_int = 1 << bits_per_arg\n",
        "    value = bit2int(self.genes[lower_bound:upper_bound])\n",
        "    return min_max_norm(value, 0, max_int, new_low, new_high)\n",
        "\n",
        "  def mutation(self, probability: float):\n",
        "    if rand_uni(probability):\n",
        "      idx = np.random.randint(0, self.genes.shape[0] - 1)\n",
        "      self.genes[idx] = 1 - self.genes[idx]\n",
        "\n",
        "  def crossover(self, other):\n",
        "    cut_point = np.random.randint(0, self.length + 1)\n",
        "    new_genes = np.append(self.genes[0:cut_point], other.genes[cut_point:])\n",
        "    return Chromosome(self.length, new_genes)\n"
      ]
    },
    {
      "cell_type": "code",
      "execution_count": 123,
      "metadata": {
        "id": "bAMGkQczOnRS"
      },
      "outputs": [],
      "source": [
        "class GeneticAlgorithm:\n",
        "  def __init__(self, chromosome_length, obj_func_num_args, objective_function, aoi, population_size=1000,\n",
        "               tournament_size=2, mutation_probability=0.05, crossover_probability=0.8, num_steps=30):\n",
        "    assert chromosome_length % obj_func_num_args == 0, \"Number of bits for each argument should be equal\"\n",
        "    self.chromosome_lengths = chromosome_length\n",
        "    self.obj_func_num_args = obj_func_num_args\n",
        "    self.bits_per_arg = int(chromosome_length / obj_func_num_args)\n",
        "    self.objective_function = objective_function\n",
        "    self.aoi = aoi\n",
        "    self.tournament_size = tournament_size\n",
        "    self.mutation_probability = mutation_probability\n",
        "    self.crossover_probability = crossover_probability\n",
        "    self.num_steps = num_steps\n",
        "\n",
        "    # initialize population\n",
        "    self.pop_size = population_size\n",
        "    self.population = np.array([Chromosome(self.chromosome_lengths) for _ in range(population_size)])\n",
        "    self._evaluate_population()\n",
        "\n",
        "  def get_args(self, chromosome: Chromosome) -> Iterable[float]:\n",
        "    args = []\n",
        "    for narg in range(self.obj_func_num_args):\n",
        "      lo = self.bits_per_arg * narg\n",
        "      hi = lo + self.bits_per_arg\n",
        "      val = chromosome.decode(lo, hi, self.aoi, self.bits_per_arg)\n",
        "      args.append(val)\n",
        "    return args\n",
        "\n",
        "  def eval_objective_func(self, chromosome: Chromosome) -> float:\n",
        "    args = self.get_args(chromosome)\n",
        "    return self.objective_function(*args)\n",
        "\n",
        "  def tournament_selection(self):\n",
        "    old_population = copy(self.population)\n",
        "    for index in range(self.pop_size):\n",
        "      chromos = np.random.choice(old_population, self.tournament_size)\n",
        "      winner = self._get_best_chromosome(chromos)\n",
        "      self.population[index] = winner\n",
        "\n",
        "  def reproduce(self, parents: Iterable[Chromosome]):\n",
        "    for index, chromosome in enumerate(parents):\n",
        "      if rand_uni(self.crossover_probability):\n",
        "        second = np.random.choice(parents, 1)[0]\n",
        "        chromosome = chromosome.crossover(second)\n",
        "      \n",
        "      chromosome.mutation(self.mutation_probability)\n",
        "      \n",
        "      parents[index] = chromosome\n",
        "    return parents\n",
        "        \n",
        "\n",
        "  def plot_func(self, trace):\n",
        "    X = np.arange(-2, 3, 0.05)\n",
        "    Y = np.arange(-4, 2, 0.05)\n",
        "    X, Y = np.meshgrid(X, Y)\n",
        "    Z = 1.5 - np.exp(-X ** (2) - Y ** (2)) - 0.5 * np.exp(-(X - 1) ** (2) - (Y + 2) ** (2))\n",
        "    plt.figure()\n",
        "    plt.contour(X, Y, Z, 10)\n",
        "    cmaps = [[ii / len(trace), 0, 0] for ii in range(len(trace))]\n",
        "    plt.scatter([x[0] for x in trace], [x[1] for x in trace], c=cmaps)\n",
        "    plt.show()\n",
        "\n",
        "\n",
        "  def _get_best_chromosome(self, chromosomes: Iterable[Chromosome]):\n",
        "    scores = [self.eval_objective_func(c) for c in chromosomes]\n",
        "    best_ind = np.argmin(scores)\n",
        "    return chromosomes[best_ind]\n",
        "\n",
        "\n",
        "  def _evaluate_population(self):\n",
        "    self.scores = [self.eval_objective_func(c) for c in self.population]\n",
        "    self.best_ind = np.argmin(self.scores)\n",
        "    self.best_score = self.scores[self.best_ind]\n",
        "    self.best_chromosome = self.population[self.best_ind]\n",
        "    self.best_args = self.get_args(self.best_chromosome)\n",
        "\n",
        "\n",
        "  def run(self, debug=False):\n",
        "    trace = []\n",
        "    for i in range(self.num_steps):\n",
        "      self.tournament_selection()\n",
        "      self.population = self.reproduce(self.population)\n",
        "      self._evaluate_population()\n",
        "\n",
        "      if (debug):\n",
        "        print(f'{i=:02}, {self.best_args}, {self.best_score}')\n",
        "      trace.append(self.best_args)\n",
        "    \n",
        "    self.plot_func(trace)\n",
        "    print(f'Result: (x1,x2)={self.best_args}, q={self.best_score}')\n",
        "\n"
      ]
    },
    {
      "cell_type": "code",
      "execution_count": 124,
      "metadata": {},
      "outputs": [],
      "source": [
        "def f(x1: float, x2: float) -> float:\n",
        "    return (\n",
        "        1.5\n",
        "        - np.exp(-(x1 ** (2)) - x2 ** (2))\n",
        "        - 0.5 * np.exp(-((x1 - 1) ** (2)) - (x2 + 2) ** (2))\n",
        "    )"
      ]
    },
    {
      "cell_type": "markdown",
      "metadata": {},
      "source": [
        "# Uruchomienie"
      ]
    },
    {
      "cell_type": "code",
      "execution_count": null,
      "metadata": {},
      "outputs": [],
      "source": [
        "for pop_size in [100, 500, 1000]:\n",
        "    print(f'POP SIZE: {pop_size}')\n",
        "    algo = GeneticAlgorithm(16, 2, f, [-10, 10], population_size=pop_size)\n",
        "    algo.run()\n",
        "    print('-----------')"
      ]
    },
    {
      "cell_type": "markdown",
      "metadata": {},
      "source": [
        "# Wnioski\n",
        "\n",
        "\n",
        "## Porównanie z metodą gradientową\n",
        "Algorytm genetyczny nie korzysta z gradientu funkcji, więc można go użyć gdyby gradient był\n",
        "bardzo trudny lub niemożliwy do obliczenia. Ma też dużo słabsze tendencje do utykania w ekstremach lokalnych.\n",
        "\n",
        "M. gradientowa do zmaksymalizowania szansy znalezienia najlepszego rozwiązania wymaga wieloktronego uruchomienia z różnymi punktami początkowymi.\n",
        "A. genetyczny robi coś podobnego przez trzymanie całej populacji chromosów, z tą różnicą że osobniki na siebie oddziałowują, a te najgorsze są\n",
        "systematycznie usuwane."
      ]
    }
  ],
  "metadata": {
    "colab": {
      "provenance": []
    },
    "kernel_info": {
      "name": "python"
    },
    "kernelspec": {
      "display_name": ".venv",
      "language": "python",
      "name": "python3"
    },
    "language_info": {
      "codemirror_mode": {
        "name": "ipython",
        "version": 3
      },
      "file_extension": ".py",
      "mimetype": "text/x-python",
      "name": "python",
      "nbconvert_exporter": "python",
      "pygments_lexer": "ipython3",
      "version": "3.12.7"
    },
    "nteract": {
      "version": "nteract-front-end@1.0.0"
    }
  },
  "nbformat": 4,
  "nbformat_minor": 0
}
