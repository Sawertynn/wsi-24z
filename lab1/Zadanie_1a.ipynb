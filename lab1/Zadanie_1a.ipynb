{
  "cells": [
    {
      "cell_type": "markdown",
      "metadata": {
        "id": "88lxDms-saqt"
      },
      "source": [
        "# Zadanie 1a (3 pkt)\n",
        "Celem zadania jest rozwiązanie problemu plecakowego dwoma metodami - brute force oraz według zadanej heurystyki. Należy zaimplementować metody klasy *KnapSack* - *solve_knapsack_brute_force* oraz *solve_knapsack_pw_ratio*. Poprzez rozwiązanie problemu rozumiemy podanie które przedmioty (indeksy w tablicy) należy spakować do plecaka oraz jaka jest sumaryczna wartość i masa plecaka. Punktacja wygląda następująco:\n",
        "\n",
        "\n",
        "*   Rozwiązanie problemu metodą brute force. *Podpowiedź: do wygenerowania wszystkich permutacji można użyć funkcji product z biblioteki itertools* - **1.5 pkt**\n",
        "*   Rozwiązanie problemu według heurystyki - do plecaka pakujemy przedmioty według stosunku wartości do wagi - **1 pkt**\n",
        "*   Dla metody brute force proszę wygenerować wykres zależności czasu wykonywania metody od liczby elementów w tablicach *weights* i *profits* (do obu tablic należy stopniowo dopisywać po jednym elemencie, np. 10-krotnie, wartości elementów nie mają znaczenia). Proszę również odpowiedzieć na pytania (w osobnej komórce tekstowej) - czy obie metody mają takie same rozwiązania? Jakie są Pani / Pana wnioski? - **0.5 pkt**\n",
        "\n",
        "\n"
      ]
    },
    {
      "cell_type": "code",
      "execution_count": 1,
      "metadata": {
        "id": "1X0PiYKZ2w63"
      },
      "outputs": [],
      "source": [
        "import itertools as it\n",
        "from time import perf_counter\n",
        "from random import randint\n",
        "\n",
        "import numpy as np\n",
        "from matplotlib import pyplot as plt"
      ]
    },
    {
      "cell_type": "markdown",
      "metadata": {},
      "source": [
        "## Implementacja"
      ]
    },
    {
      "cell_type": "code",
      "execution_count": 2,
      "metadata": {
        "id": "s5J82x9WuSOh"
      },
      "outputs": [],
      "source": [
        "class KnapSack:\n",
        "    def __init__(self, profits, weights, capacity):\n",
        "        if len(profits) != len(weights):\n",
        "            raise ValueError(\"profits and weights arrays must be equal in length\")\n",
        "        self.profits = profits\n",
        "        self.weights = weights\n",
        "        self.capacity = capacity\n",
        "\n",
        "    def solve_knapsack_brute_force(self) -> np.ndarray[int]:\n",
        "        best_profit = 0\n",
        "        best_indexes = None\n",
        "        indexes = np.array(range(len(self.profits)))\n",
        "        maxSize = len(self.profits)\n",
        "\n",
        "        for size in range(1, maxSize + 1):\n",
        "            for subset in it.combinations(indexes, size):\n",
        "                chosen = np.array(subset).astype(int)\n",
        "                if self._fits(chosen) and self.profits[chosen].sum() > best_profit:\n",
        "                    best_indexes = chosen\n",
        "                    best_profit = self.profits[chosen].sum()\n",
        "        return best_indexes\n",
        "\n",
        "    def solve_knapsack_pw_ratio(self) -> np.ndarray[int]:\n",
        "        indexes = list(range(len(self.profits)))\n",
        "        indexes.sort(key=lambda ind: self.profits[ind] / self.weights[ind], reverse=True)\n",
        "\n",
        "        best_indexes = []\n",
        "        current_weight = 0\n",
        "        for i, w in zip(indexes, self.weights[indexes]):\n",
        "            if w + current_weight <= self.capacity:\n",
        "                best_indexes.append(i)\n",
        "                current_weight += w\n",
        "            if current_weight == self.capacity:\n",
        "                break\n",
        "        return best_indexes\n",
        "\n",
        "    # Utility methods\n",
        "    def s_profit(self, indexes):\n",
        "        return sum(self.profits[indexes])\n",
        "\n",
        "    def s_weight(self, indexes):\n",
        "        return sum(self.weights[indexes])\n",
        "    \n",
        "    def print_answer(self, indexes):\n",
        "        s = f'answer: {indexes}, total profit: {self.s_profit(indexes)}, weight: {self.s_weight(indexes)}/{self.capacity}'\n",
        "        print(s)\n",
        "\n",
        "    def _fits(self, indexes) -> bool:\n",
        "        return sum(self.weights[indexes]) < self.capacity\n"
      ]
    },
    {
      "cell_type": "markdown",
      "metadata": {},
      "source": [
        "## Porównanie"
      ]
    },
    {
      "cell_type": "code",
      "execution_count": 3,
      "metadata": {},
      "outputs": [],
      "source": [
        "## set example values\n",
        "profits = np.array([16, 8, 9, 6])\n",
        "weights = np.array([8, 3, 5, 2])\n",
        "capacity = 9\n",
        "\n",
        "sack = KnapSack(profits, weights, capacity)"
      ]
    },
    {
      "cell_type": "code",
      "execution_count": 4,
      "metadata": {},
      "outputs": [
        {
          "name": "stdout",
          "output_type": "stream",
          "text": [
            "answer: [1 2], total profit: 17, weight: 8/9\n"
          ]
        }
      ],
      "source": [
        "## brute force solution\n",
        "\n",
        "answer_bf = sack.solve_knapsack_brute_force()\n",
        "sack.print_answer(answer_bf)"
      ]
    },
    {
      "cell_type": "code",
      "execution_count": 5,
      "metadata": {},
      "outputs": [
        {
          "name": "stdout",
          "output_type": "stream",
          "text": [
            "answer: [3, 1], total profit: 14, weight: 5/9\n"
          ]
        }
      ],
      "source": [
        "## pw heuristic solution\n",
        "\n",
        "answer_pw = sack.solve_knapsack_pw_ratio()\n",
        "sack.print_answer(answer_pw)"
      ]
    },
    {
      "cell_type": "markdown",
      "metadata": {},
      "source": [
        "## Wnioski\n",
        "\n",
        "Algorytm heurystyczny nie sprawdza wszystkich możliwości, zatem nie gwarantuje znalezienia rozwiązania optymalnego.\n",
        "W tym przykładzie zwrócił rozwiązanie o wartości 14, w porównaniu do najlepszego o wartości 17 znalezionego przez metodę brute force.\n",
        "Metoda brute force sprawdza wszystkie możliwe rozwiązania i gwarantuje znalezienie optimum, jednak jest o wiele bardziej kosztowna obliczeniowo.\n",
        "\n",
        "Złożoność obliczeniowa dla n elementów w plecaku:\n",
        " - heurystyka: O(n) - liniowa\n",
        " - brute force: O(2^n) - wykładnicza"
      ]
    },
    {
      "cell_type": "markdown",
      "metadata": {},
      "source": [
        "## Mierzenie brute force"
      ]
    },
    {
      "cell_type": "code",
      "execution_count": 6,
      "metadata": {},
      "outputs": [],
      "source": [
        "def measure_brute_force(maxSize: int, capacity=9):\n",
        "    results = []\n",
        "    profits = []\n",
        "    weights = []\n",
        "\n",
        "    for size in range(1, maxSize+1):\n",
        "        w = randint(1, capacity)\n",
        "        p = randint(1, 3 * w)\n",
        "        profits.append(p)\n",
        "        weights.append(w)\n",
        "        sack = KnapSack(np.array(profits), np.array(weights), capacity)\n",
        "\n",
        "        start = perf_counter()\n",
        "        sack.solve_knapsack_brute_force()\n",
        "        duration = perf_counter() - start\n",
        "        results.append((size, duration))\n",
        "\n",
        "    return results\n",
        "\n",
        "\n",
        "def plot_results(results):\n",
        "    sizes, times = zip(*results)\n",
        "\n",
        "    fig, ax = plt.subplots()\n",
        "    ax.plot(sizes, times)\n",
        "\n",
        "    ax.set(xlabel='item count', ylabel='time [s]',\n",
        "        title='Knapsack Brute Force solving time')\n",
        "    ax.grid()\n",
        "\n",
        "    plt.show()\n"
      ]
    },
    {
      "cell_type": "code",
      "execution_count": 7,
      "metadata": {},
      "outputs": [
        {
          "data": {
            "image/png": "[encoded data removed]",
            "text/plain": [
              "<Figure size 640x480 with 1 Axes>"
            ]
          },
          "metadata": {},
          "output_type": "display_data"
        }
      ],
      "source": [
        "N = 20\n",
        "\n",
        "r = measure_brute_force(N)\n",
        "plot_results(r)"
      ]
    }
  ],
  "metadata": {
    "accelerator": "GPU",
    "colab": {
      "provenance": []
    },
    "kernelspec": {
      "display_name": ".venv",
      "language": "python",
      "name": "python3"
    },
    "language_info": {
      "codemirror_mode": {
        "name": "ipython",
        "version": 3
      },
      "file_extension": ".py",
      "mimetype": "text/x-python",
      "name": "python",
      "nbconvert_exporter": "python",
      "pygments_lexer": "ipython3",
      "version": "3.12.3"
    },
    "nteract": {
      "version": "nteract-front-end@1.0.0"
    }
  },
  "nbformat": 4,
  "nbformat_minor": 0
}
